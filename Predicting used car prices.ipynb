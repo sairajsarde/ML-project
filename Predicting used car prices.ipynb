{
 "cells": [
  {
   "cell_type": "markdown",
   "metadata": {},
   "source": [
    "# Predicting used car prices\n",
    "\n",
    "In this notebook, I'll work with the [Kaggle](https://www.kaggle.com/avikasliwal/used-cars-price-prediction) dataset about used cars and their prices. The notebook first includes exploration of the dataset followed by prediction of prices."
   ]
  },
  {
   "cell_type": "markdown",
   "metadata": {},
   "source": [
    "## Import libraries\n",
    "\n",
    "I'll import `datetime` to handle year, `numpy` to work with arrays and `pandas` to read in the dataset files, `matplotlib` & `seaborn` for plotting and `sklearn` for various machine learning models."
   ]
  },
  {
   "cell_type": "code",
   "execution_count": 1,
   "metadata": {},
   "outputs": [],
   "source": [
    "import datetime\n",
    "\n",
    "import numpy as np\n",
    "import pandas as pd\n",
    "import joblib\n",
    "\n",
    "import matplotlib.pyplot as plt\n",
    "import seaborn as sns\n",
    "%matplotlib inline\n",
    "\n",
    "from sklearn.model_selection import train_test_split\n",
    "from sklearn.linear_model import LinearRegression\n",
    "from sklearn.ensemble import RandomForestRegressor\n",
    "from sklearn.preprocessing import StandardScaler\n",
    "from sklearn.metrics import r2_score\n",
    "import pickle"
   ]
  },
  {
   "cell_type": "markdown",
   "metadata": {},
   "source": [
    "## Read dataset\n",
    "\n",
    "I'll read the dataset and get information about it."
   ]
  },
  {
   "cell_type": "code",
   "execution_count": 2,
   "metadata": {},
   "outputs": [
    {
     "data": {
      "text/html": [
       "<div>\n",
       "<style scoped>\n",
       "    .dataframe tbody tr th:only-of-type {\n",
       "        vertical-align: middle;\n",
       "    }\n",
       "\n",
       "    .dataframe tbody tr th {\n",
       "        vertical-align: top;\n",
       "    }\n",
       "\n",
       "    .dataframe thead th {\n",
       "        text-align: right;\n",
       "    }\n",
       "</style>\n",
       "<table border=\"1\" class=\"dataframe\">\n",
       "  <thead>\n",
       "    <tr style=\"text-align: right;\">\n",
       "      <th></th>\n",
       "      <th>Unnamed: 0</th>\n",
       "      <th>Name</th>\n",
       "      <th>Location</th>\n",
       "      <th>Year</th>\n",
       "      <th>Kilometers_Driven</th>\n",
       "      <th>Fuel_Type</th>\n",
       "      <th>Transmission</th>\n",
       "      <th>Owner_Type</th>\n",
       "      <th>Mileage</th>\n",
       "      <th>Engine</th>\n",
       "      <th>Power</th>\n",
       "      <th>Seats</th>\n",
       "      <th>New_Price</th>\n",
       "      <th>Price</th>\n",
       "    </tr>\n",
       "  </thead>\n",
       "  <tbody>\n",
       "    <tr>\n",
       "      <th>0</th>\n",
       "      <td>0</td>\n",
       "      <td>Maruti Wagon R LXI CNG</td>\n",
       "      <td>Mumbai</td>\n",
       "      <td>2010</td>\n",
       "      <td>72000</td>\n",
       "      <td>CNG</td>\n",
       "      <td>Manual</td>\n",
       "      <td>First</td>\n",
       "      <td>26.6 km/kg</td>\n",
       "      <td>998 CC</td>\n",
       "      <td>58.16 bhp</td>\n",
       "      <td>5.0</td>\n",
       "      <td>NaN</td>\n",
       "      <td>1.75</td>\n",
       "    </tr>\n",
       "    <tr>\n",
       "      <th>1</th>\n",
       "      <td>1</td>\n",
       "      <td>Hyundai Creta 1.6 CRDi SX Option</td>\n",
       "      <td>Pune</td>\n",
       "      <td>2015</td>\n",
       "      <td>41000</td>\n",
       "      <td>Diesel</td>\n",
       "      <td>Manual</td>\n",
       "      <td>First</td>\n",
       "      <td>19.67 kmpl</td>\n",
       "      <td>1582 CC</td>\n",
       "      <td>126.2 bhp</td>\n",
       "      <td>5.0</td>\n",
       "      <td>NaN</td>\n",
       "      <td>12.50</td>\n",
       "    </tr>\n",
       "    <tr>\n",
       "      <th>2</th>\n",
       "      <td>2</td>\n",
       "      <td>Honda Jazz V</td>\n",
       "      <td>Chennai</td>\n",
       "      <td>2011</td>\n",
       "      <td>46000</td>\n",
       "      <td>Petrol</td>\n",
       "      <td>Manual</td>\n",
       "      <td>First</td>\n",
       "      <td>18.2 kmpl</td>\n",
       "      <td>1199 CC</td>\n",
       "      <td>88.7 bhp</td>\n",
       "      <td>5.0</td>\n",
       "      <td>8.61 Lakh</td>\n",
       "      <td>4.50</td>\n",
       "    </tr>\n",
       "    <tr>\n",
       "      <th>3</th>\n",
       "      <td>3</td>\n",
       "      <td>Maruti Ertiga VDI</td>\n",
       "      <td>Chennai</td>\n",
       "      <td>2012</td>\n",
       "      <td>87000</td>\n",
       "      <td>Diesel</td>\n",
       "      <td>Manual</td>\n",
       "      <td>First</td>\n",
       "      <td>20.77 kmpl</td>\n",
       "      <td>1248 CC</td>\n",
       "      <td>88.76 bhp</td>\n",
       "      <td>7.0</td>\n",
       "      <td>NaN</td>\n",
       "      <td>6.00</td>\n",
       "    </tr>\n",
       "    <tr>\n",
       "      <th>4</th>\n",
       "      <td>4</td>\n",
       "      <td>Audi A4 New 2.0 TDI Multitronic</td>\n",
       "      <td>Coimbatore</td>\n",
       "      <td>2013</td>\n",
       "      <td>40670</td>\n",
       "      <td>Diesel</td>\n",
       "      <td>Automatic</td>\n",
       "      <td>Second</td>\n",
       "      <td>15.2 kmpl</td>\n",
       "      <td>1968 CC</td>\n",
       "      <td>140.8 bhp</td>\n",
       "      <td>5.0</td>\n",
       "      <td>NaN</td>\n",
       "      <td>17.74</td>\n",
       "    </tr>\n",
       "  </tbody>\n",
       "</table>\n",
       "</div>"
      ],
      "text/plain": [
       "   Unnamed: 0                              Name    Location  Year  \\\n",
       "0           0            Maruti Wagon R LXI CNG      Mumbai  2010   \n",
       "1           1  Hyundai Creta 1.6 CRDi SX Option        Pune  2015   \n",
       "2           2                      Honda Jazz V     Chennai  2011   \n",
       "3           3                 Maruti Ertiga VDI     Chennai  2012   \n",
       "4           4   Audi A4 New 2.0 TDI Multitronic  Coimbatore  2013   \n",
       "\n",
       "   Kilometers_Driven Fuel_Type Transmission Owner_Type     Mileage   Engine  \\\n",
       "0              72000       CNG       Manual      First  26.6 km/kg   998 CC   \n",
       "1              41000    Diesel       Manual      First  19.67 kmpl  1582 CC   \n",
       "2              46000    Petrol       Manual      First   18.2 kmpl  1199 CC   \n",
       "3              87000    Diesel       Manual      First  20.77 kmpl  1248 CC   \n",
       "4              40670    Diesel    Automatic     Second   15.2 kmpl  1968 CC   \n",
       "\n",
       "       Power  Seats  New_Price  Price  \n",
       "0  58.16 bhp    5.0        NaN   1.75  \n",
       "1  126.2 bhp    5.0        NaN  12.50  \n",
       "2   88.7 bhp    5.0  8.61 Lakh   4.50  \n",
       "3  88.76 bhp    7.0        NaN   6.00  \n",
       "4  140.8 bhp    5.0        NaN  17.74  "
      ]
     },
     "execution_count": 2,
     "metadata": {},
     "output_type": "execute_result"
    }
   ],
   "source": [
    "dataset = pd.read_csv(\"data/dataset.csv\")\n",
    "dataset.head(5)\n",
    "#dataset.shape\n",
    "#dataset[]"
   ]
  },
  {
   "cell_type": "code",
   "execution_count": 3,
   "metadata": {},
   "outputs": [
    {
     "name": "stdout",
     "output_type": "stream",
     "text": [
      "<class 'pandas.core.frame.DataFrame'>\n",
      "RangeIndex: 6019 entries, 0 to 6018\n",
      "Data columns (total 14 columns):\n",
      " #   Column             Non-Null Count  Dtype  \n",
      "---  ------             --------------  -----  \n",
      " 0   Unnamed: 0         6019 non-null   int64  \n",
      " 1   Name               6019 non-null   object \n",
      " 2   Location           6019 non-null   object \n",
      " 3   Year               6019 non-null   int64  \n",
      " 4   Kilometers_Driven  6019 non-null   int64  \n",
      " 5   Fuel_Type          6019 non-null   object \n",
      " 6   Transmission       6019 non-null   object \n",
      " 7   Owner_Type         6019 non-null   object \n",
      " 8   Mileage            6017 non-null   object \n",
      " 9   Engine             5983 non-null   object \n",
      " 10  Power              5983 non-null   object \n",
      " 11  Seats              5977 non-null   float64\n",
      " 12  New_Price          824 non-null    object \n",
      " 13  Price              6019 non-null   float64\n",
      "dtypes: float64(2), int64(3), object(9)\n",
      "memory usage: 658.5+ KB\n"
     ]
    }
   ],
   "source": [
    "#dataset.iloc[4201:4202]\n",
    "dataset.info()"
   ]
  },
  {
   "cell_type": "markdown",
   "metadata": {},
   "source": [
    "Let's first split the dataset into train and test datasets."
   ]
  },
  {
   "cell_type": "code",
   "execution_count": 4,
   "metadata": {},
   "outputs": [],
   "source": [
    "X_train, X_test, y_train, y_test = train_test_split(dataset.iloc[:, :-1], \n",
    "                                                    dataset.iloc[:, -1], \n",
    "                                                    test_size = 0.3, \n",
    "                                                    random_state = 42)"
   ]
  },
  {
   "cell_type": "code",
   "execution_count": 5,
   "metadata": {},
   "outputs": [],
   "source": [
    "#X_train.shape"
   ]
  },
  {
   "cell_type": "markdown",
   "metadata": {},
   "source": [
    "## Exploratory Data Analysis\n",
    "\n",
    "Let's explore the various columns and draw information about how useful each column is. I'll also modify the test data based on training data."
   ]
  },
  {
   "cell_type": "markdown",
   "metadata": {},
   "source": [
    "### Index\n",
    "\n",
    "The first column is the index for each data point and hence we can simply remove it."
   ]
  },
  {
   "cell_type": "code",
   "execution_count": 6,
   "metadata": {},
   "outputs": [
    {
     "name": "stdout",
     "output_type": "stream",
     "text": [
      "                                              Name   Location  Year  \\\n",
      "4201         Volkswagen Polo Diesel Trendline 1.2L     Jaipur  2011   \n",
      "4383                            Hyundai i10 Sportz  Hyderabad  2016   \n",
      "1779                        Mahindra XUV500 W8 2WD      Kochi  2014   \n",
      "4020                         Maruti Swift VDI BSIV    Kolkata  2013   \n",
      "3248         Volkswagen Polo Petrol Trendline 1.2L      Kochi  2011   \n",
      "...                                            ...        ...   ...   \n",
      "3772  Nissan Sunny 2011-2014 XL AT Special Edition    Chennai  2015   \n",
      "5191            Ford Endeavour 2.2 Titanium AT 4X2    Chennai  2019   \n",
      "5226                        Mahindra XUV500 W8 2WD  Hyderabad  2013   \n",
      "5390                         Honda Amaze S i-Dtech     Jaipur  2014   \n",
      "860    Toyota Innova 2.5 G (Diesel) 7 Seater BS IV    Kolkata  2011   \n",
      "\n",
      "      Kilometers_Driven Fuel_Type Transmission Owner_Type     Mileage  \\\n",
      "4201              77000    Diesel       Manual      First  22.07 kmpl   \n",
      "4383              19947    Petrol       Manual      First  20.36 kmpl   \n",
      "1779              70963    Diesel       Manual      First   15.1 kmpl   \n",
      "4020             115195    Diesel       Manual      First   25.2 kmpl   \n",
      "3248              58752    Petrol       Manual      First  16.47 kmpl   \n",
      "...                 ...       ...          ...        ...         ...   \n",
      "3772              27000    Petrol    Automatic      First  17.97 kmpl   \n",
      "5191               9000    Diesel    Automatic      First  12.62 kmpl   \n",
      "5226             140000    Diesel       Manual     Second   15.1 kmpl   \n",
      "5390              76414    Diesel       Manual      First   25.8 kmpl   \n",
      "860               98000    Diesel       Manual     Second   12.8 kmpl   \n",
      "\n",
      "       Engine     Power  Seats New_Price  \n",
      "4201  1199 CC  73.9 bhp    5.0       NaN  \n",
      "4383  1197 CC  78.9 bhp    5.0       NaN  \n",
      "1779  2179 CC   140 bhp    7.0       NaN  \n",
      "4020  1248 CC    74 bhp    5.0       NaN  \n",
      "3248  1198 CC  73.9 bhp    5.0       NaN  \n",
      "...       ...       ...    ...       ...  \n",
      "3772  1498 CC  99.6 bhp    5.0       NaN  \n",
      "5191  2198 CC   158 bhp    7.0       NaN  \n",
      "5226  2179 CC   140 bhp    7.0       NaN  \n",
      "5390  1498 CC  98.6 bhp    5.0       NaN  \n",
      "860   2494 CC   102 bhp    8.0       NaN  \n",
      "\n",
      "[4213 rows x 12 columns]\n"
     ]
    }
   ],
   "source": [
    "X_train = X_train.iloc[:, 1:]\n",
    "X_test = X_test.iloc[:, 1:]\n",
    "\n",
    "print(X_train)"
   ]
  },
  {
   "cell_type": "code",
   "execution_count": 7,
   "metadata": {},
   "outputs": [
    {
     "name": "stdout",
     "output_type": "stream",
     "text": [
      "                                              Name   Location  Year  \\\n",
      "4201         Volkswagen Polo Diesel Trendline 1.2L     Jaipur  2011   \n",
      "4383                            Hyundai i10 Sportz  Hyderabad  2016   \n",
      "1779                        Mahindra XUV500 W8 2WD      Kochi  2014   \n",
      "4020                         Maruti Swift VDI BSIV    Kolkata  2013   \n",
      "3248         Volkswagen Polo Petrol Trendline 1.2L      Kochi  2011   \n",
      "...                                            ...        ...   ...   \n",
      "3772  Nissan Sunny 2011-2014 XL AT Special Edition    Chennai  2015   \n",
      "5191            Ford Endeavour 2.2 Titanium AT 4X2    Chennai  2019   \n",
      "5226                        Mahindra XUV500 W8 2WD  Hyderabad  2013   \n",
      "5390                         Honda Amaze S i-Dtech     Jaipur  2014   \n",
      "860    Toyota Innova 2.5 G (Diesel) 7 Seater BS IV    Kolkata  2011   \n",
      "\n",
      "      Kilometers_Driven Fuel_Type Transmission Owner_Type     Mileage  \\\n",
      "4201              77000    Diesel       Manual      First  22.07 kmpl   \n",
      "4383              19947    Petrol       Manual      First  20.36 kmpl   \n",
      "1779              70963    Diesel       Manual      First   15.1 kmpl   \n",
      "4020             115195    Diesel       Manual      First   25.2 kmpl   \n",
      "3248              58752    Petrol       Manual      First  16.47 kmpl   \n",
      "...                 ...       ...          ...        ...         ...   \n",
      "3772              27000    Petrol    Automatic      First  17.97 kmpl   \n",
      "5191               9000    Diesel    Automatic      First  12.62 kmpl   \n",
      "5226             140000    Diesel       Manual     Second   15.1 kmpl   \n",
      "5390              76414    Diesel       Manual      First   25.8 kmpl   \n",
      "860               98000    Diesel       Manual     Second   12.8 kmpl   \n",
      "\n",
      "       Engine     Power  Seats New_Price  \n",
      "4201  1199 CC  73.9 bhp    5.0       NaN  \n",
      "4383  1197 CC  78.9 bhp    5.0       NaN  \n",
      "1779  2179 CC   140 bhp    7.0       NaN  \n",
      "4020  1248 CC    74 bhp    5.0       NaN  \n",
      "3248  1198 CC  73.9 bhp    5.0       NaN  \n",
      "...       ...       ...    ...       ...  \n",
      "3772  1498 CC  99.6 bhp    5.0       NaN  \n",
      "5191  2198 CC   158 bhp    7.0       NaN  \n",
      "5226  2179 CC   140 bhp    7.0       NaN  \n",
      "5390  1498 CC  98.6 bhp    5.0       NaN  \n",
      "860   2494 CC   102 bhp    8.0       NaN  \n",
      "\n",
      "[4213 rows x 12 columns]\n"
     ]
    }
   ],
   "source": [
    "#X_train[\"Manufacturer\"] = make_train[0]\n",
    "#X_test[\"Manufacturer\"] = make_test[0] \n",
    "print(X_train) "
   ]
  },
  {
   "cell_type": "markdown",
   "metadata": {},
   "source": [
    "Let's also confirm that there are no null values and identify all unique values."
   ]
  },
  {
   "cell_type": "markdown",
   "metadata": {},
   "source": [
    "Maximum cars in the dataset are by the manufacturer **Maruti** and there are no null values.\n",
    "\n",
    "I'll also drop the `Name` column."
   ]
  },
  {
   "cell_type": "code",
   "execution_count": 8,
   "metadata": {},
   "outputs": [
    {
     "name": "stdout",
     "output_type": "stream",
     "text": [
      "       Location  Year  Kilometers_Driven Fuel_Type Transmission Owner_Type  \\\n",
      "4201     Jaipur  2011              77000    Diesel       Manual      First   \n",
      "4383  Hyderabad  2016              19947    Petrol       Manual      First   \n",
      "1779      Kochi  2014              70963    Diesel       Manual      First   \n",
      "4020    Kolkata  2013             115195    Diesel       Manual      First   \n",
      "3248      Kochi  2011              58752    Petrol       Manual      First   \n",
      "...         ...   ...                ...       ...          ...        ...   \n",
      "3772    Chennai  2015              27000    Petrol    Automatic      First   \n",
      "5191    Chennai  2019               9000    Diesel    Automatic      First   \n",
      "5226  Hyderabad  2013             140000    Diesel       Manual     Second   \n",
      "5390     Jaipur  2014              76414    Diesel       Manual      First   \n",
      "860     Kolkata  2011              98000    Diesel       Manual     Second   \n",
      "\n",
      "         Mileage   Engine     Power  Seats New_Price  \n",
      "4201  22.07 kmpl  1199 CC  73.9 bhp    5.0       NaN  \n",
      "4383  20.36 kmpl  1197 CC  78.9 bhp    5.0       NaN  \n",
      "1779   15.1 kmpl  2179 CC   140 bhp    7.0       NaN  \n",
      "4020   25.2 kmpl  1248 CC    74 bhp    5.0       NaN  \n",
      "3248  16.47 kmpl  1198 CC  73.9 bhp    5.0       NaN  \n",
      "...          ...      ...       ...    ...       ...  \n",
      "3772  17.97 kmpl  1498 CC  99.6 bhp    5.0       NaN  \n",
      "5191  12.62 kmpl  2198 CC   158 bhp    7.0       NaN  \n",
      "5226   15.1 kmpl  2179 CC   140 bhp    7.0       NaN  \n",
      "5390   25.8 kmpl  1498 CC  98.6 bhp    5.0       NaN  \n",
      "860    12.8 kmpl  2494 CC   102 bhp    8.0       NaN  \n",
      "\n",
      "[4213 rows x 11 columns]\n"
     ]
    }
   ],
   "source": [
    "X_train.drop(\"Name\", axis = 1, inplace = True)\n",
    "X_test.drop(\"Name\", axis = 1, inplace = True)\n",
    "print(X_train)"
   ]
  },
  {
   "cell_type": "markdown",
   "metadata": {},
   "source": [
    "### Location\n",
    "\n",
    "Location should not be a determinant for the price of a car and I'll safely remove it."
   ]
  },
  {
   "cell_type": "code",
   "execution_count": 9,
   "metadata": {},
   "outputs": [
    {
     "name": "stdout",
     "output_type": "stream",
     "text": [
      "      Year  Kilometers_Driven     Mileage   Engine     Power  Seats New_Price\n",
      "4201  2011              77000  22.07 kmpl  1199 CC  73.9 bhp    5.0       NaN\n",
      "4383  2016              19947  20.36 kmpl  1197 CC  78.9 bhp    5.0       NaN\n",
      "1779  2014              70963   15.1 kmpl  2179 CC   140 bhp    7.0       NaN\n",
      "4020  2013             115195   25.2 kmpl  1248 CC    74 bhp    5.0       NaN\n",
      "3248  2011              58752  16.47 kmpl  1198 CC  73.9 bhp    5.0       NaN\n",
      "...    ...                ...         ...      ...       ...    ...       ...\n",
      "3772  2015              27000  17.97 kmpl  1498 CC  99.6 bhp    5.0       NaN\n",
      "5191  2019               9000  12.62 kmpl  2198 CC   158 bhp    7.0       NaN\n",
      "5226  2013             140000   15.1 kmpl  2179 CC   140 bhp    7.0       NaN\n",
      "5390  2014              76414   25.8 kmpl  1498 CC  98.6 bhp    5.0       NaN\n",
      "860   2011              98000   12.8 kmpl  2494 CC   102 bhp    8.0       NaN\n",
      "\n",
      "[4213 rows x 7 columns]\n"
     ]
    }
   ],
   "source": [
    "X_train.drop(\"Location\", axis = 1, inplace = True)\n",
    "X_test.drop(\"Location\", axis = 1, inplace = True)\n",
    "\n",
    "X_train.drop(\"Fuel_Type\",axis = 1, inplace = True)\n",
    "X_test.drop(\"Fuel_Type\", axis = 1, inplace = True)\n",
    "\n",
    "X_train.drop(\"Transmission\",axis = 1, inplace = True)\n",
    "X_test.drop(\"Transmission\", axis = 1, inplace = True)\n",
    "\n",
    "X_train.drop(\"Owner_Type\",axis = 1, inplace = True)\n",
    "X_test.drop(\"Owner_Type\", axis = 1, inplace = True)\n",
    "\n",
    "print(X_train)"
   ]
  },
  {
   "cell_type": "markdown",
   "metadata": {},
   "source": [
    "### Year\n",
    "\n",
    "Year has no significance on its own unless we try to extract how old a car is from this and see how its resale price may get affected."
   ]
  },
  {
   "cell_type": "code",
   "execution_count": 10,
   "metadata": {},
   "outputs": [
    {
     "name": "stdout",
     "output_type": "stream",
     "text": [
      "      Year  Kilometers_Driven     Mileage   Engine     Power  Seats New_Price\n",
      "4201    10              77000  22.07 kmpl  1199 CC  73.9 bhp    5.0       NaN\n",
      "4383     5              19947  20.36 kmpl  1197 CC  78.9 bhp    5.0       NaN\n",
      "1779     7              70963   15.1 kmpl  2179 CC   140 bhp    7.0       NaN\n",
      "4020     8             115195   25.2 kmpl  1248 CC    74 bhp    5.0       NaN\n",
      "3248    10              58752  16.47 kmpl  1198 CC  73.9 bhp    5.0       NaN\n",
      "...    ...                ...         ...      ...       ...    ...       ...\n",
      "3772     6              27000  17.97 kmpl  1498 CC  99.6 bhp    5.0       NaN\n",
      "5191     2               9000  12.62 kmpl  2198 CC   158 bhp    7.0       NaN\n",
      "5226     8             140000   15.1 kmpl  2179 CC   140 bhp    7.0       NaN\n",
      "5390     7              76414   25.8 kmpl  1498 CC  98.6 bhp    5.0       NaN\n",
      "860     10              98000   12.8 kmpl  2494 CC   102 bhp    8.0       NaN\n",
      "\n",
      "[4213 rows x 7 columns]\n"
     ]
    }
   ],
   "source": [
    "curr_time = datetime.datetime.now()\n",
    "X_train['Year'] = X_train['Year'].apply(lambda x : curr_time.year - x)\n",
    "X_test['Year'] = X_test['Year'].apply(lambda x : curr_time.year - x)\n",
    "\n",
    "print(X_train)"
   ]
  },
  {
   "cell_type": "markdown",
   "metadata": {},
   "source": [
    "## Mileage\n",
    "\n",
    "This column defines the mileage of the car. We need to extract the numerical value out of each string and save it."
   ]
  },
  {
   "cell_type": "code",
   "execution_count": 11,
   "metadata": {},
   "outputs": [
    {
     "name": "stdout",
     "output_type": "stream",
     "text": [
      "      Year  Kilometers_Driven  Mileage   Engine     Power  Seats New_Price\n",
      "4201    10              77000    22.07  1199 CC  73.9 bhp    5.0       NaN\n",
      "4383     5              19947    20.36  1197 CC  78.9 bhp    5.0       NaN\n",
      "1779     7              70963    15.10  2179 CC   140 bhp    7.0       NaN\n",
      "4020     8             115195    25.20  1248 CC    74 bhp    5.0       NaN\n",
      "3248    10              58752    16.47  1198 CC  73.9 bhp    5.0       NaN\n",
      "...    ...                ...      ...      ...       ...    ...       ...\n",
      "3772     6              27000    17.97  1498 CC  99.6 bhp    5.0       NaN\n",
      "5191     2               9000    12.62  2198 CC   158 bhp    7.0       NaN\n",
      "5226     8             140000    15.10  2179 CC   140 bhp    7.0       NaN\n",
      "5390     7              76414    25.80  1498 CC  98.6 bhp    5.0       NaN\n",
      "860     10              98000    12.80  2494 CC   102 bhp    8.0       NaN\n",
      "\n",
      "[4213 rows x 7 columns]\n"
     ]
    }
   ],
   "source": [
    "mileage_train = X_train[\"Mileage\"].str.split(\" \", expand = True)\n",
    "mileage_test = X_test[\"Mileage\"].str.split(\" \", expand = True)\n",
    "\n",
    "X_train[\"Mileage\"] = pd.to_numeric(mileage_train[0], errors = 'coerce')\n",
    "X_test[\"Mileage\"] = pd.to_numeric(mileage_test[0], errors = 'coerce')\n",
    "print(X_train)"
   ]
  },
  {
   "cell_type": "markdown",
   "metadata": {},
   "source": [
    "Let's check for missing values."
   ]
  },
  {
   "cell_type": "code",
   "execution_count": 12,
   "metadata": {},
   "outputs": [
    {
     "name": "stdout",
     "output_type": "stream",
     "text": [
      "      Year  Kilometers_Driven  Mileage   Engine     Power  Seats New_Price\n",
      "4201    10              77000    22.07  1199 CC  73.9 bhp    5.0       NaN\n",
      "4383     5              19947    20.36  1197 CC  78.9 bhp    5.0       NaN\n",
      "1779     7              70963    15.10  2179 CC   140 bhp    7.0       NaN\n",
      "4020     8             115195    25.20  1248 CC    74 bhp    5.0       NaN\n",
      "3248    10              58752    16.47  1198 CC  73.9 bhp    5.0       NaN\n",
      "...    ...                ...      ...      ...       ...    ...       ...\n",
      "3772     6              27000    17.97  1498 CC  99.6 bhp    5.0       NaN\n",
      "5191     2               9000    12.62  2198 CC   158 bhp    7.0       NaN\n",
      "5226     8             140000    15.10  2179 CC   140 bhp    7.0       NaN\n",
      "5390     7              76414    25.80  1498 CC  98.6 bhp    5.0       NaN\n",
      "860     10              98000    12.80  2494 CC   102 bhp    8.0       NaN\n",
      "\n",
      "[4213 rows x 7 columns]\n"
     ]
    }
   ],
   "source": [
    "X_train[\"Mileage\"].fillna(X_train[\"Mileage\"].astype(\"float64\").mean(), inplace = True)\n",
    "X_test[\"Mileage\"].fillna(X_train[\"Mileage\"].astype(\"float64\").mean(), inplace = True)\n",
    "print(X_train)"
   ]
  },
  {
   "cell_type": "markdown",
   "metadata": {},
   "source": [
    "### Engine, Power and Seats\n",
    "\n",
    "The `Engine` values are defined in CC so I need to remove `CC` from the data. Similarly, `Power` has bhp, so I'll remove `bhp` from it. Also, as there are missing values in `Engine`, `Power` and `Seats`, I'll again replace them with the mean."
   ]
  },
  {
   "cell_type": "code",
   "execution_count": 13,
   "metadata": {},
   "outputs": [
    {
     "name": "stdout",
     "output_type": "stream",
     "text": [
      "      Year  Kilometers_Driven  Mileage  Engine  Power  Seats New_Price\n",
      "4201    10              77000    22.07  1199.0   73.9    5.0       NaN\n",
      "4383     5              19947    20.36  1197.0   78.9    5.0       NaN\n",
      "1779     7              70963    15.10  2179.0  140.0    7.0       NaN\n",
      "4020     8             115195    25.20  1248.0   74.0    5.0       NaN\n",
      "3248    10              58752    16.47  1198.0   73.9    5.0       NaN\n",
      "...    ...                ...      ...     ...    ...    ...       ...\n",
      "3772     6              27000    17.97  1498.0   99.6    5.0       NaN\n",
      "5191     2               9000    12.62  2198.0  158.0    7.0       NaN\n",
      "5226     8             140000    15.10  2179.0  140.0    7.0       NaN\n",
      "5390     7              76414    25.80  1498.0   98.6    5.0       NaN\n",
      "860     10              98000    12.80  2494.0  102.0    8.0       NaN\n",
      "\n",
      "[4213 rows x 7 columns]\n"
     ]
    }
   ],
   "source": [
    "cc_train = X_train[\"Engine\"].str.split(\" \", expand = True)\n",
    "cc_test = X_test[\"Engine\"].str.split(\" \", expand = True)\n",
    "X_train[\"Engine\"] = pd.to_numeric(cc_train[0], errors = 'coerce')\n",
    "X_test[\"Engine\"] = pd.to_numeric(cc_test[0], errors = 'coerce')\n",
    "\n",
    "bhp_train = X_train[\"Power\"].str.split(\" \", expand = True)\n",
    "bhp_test = X_test[\"Power\"].str.split(\" \", expand = True)\n",
    "X_train[\"Power\"] = pd.to_numeric(bhp_train[0], errors = 'coerce')\n",
    "X_test[\"Power\"] = pd.to_numeric(bhp_test[0], errors = 'coerce')\n",
    "print(X_train)"
   ]
  },
  {
   "cell_type": "code",
   "execution_count": 14,
   "metadata": {},
   "outputs": [
    {
     "name": "stdout",
     "output_type": "stream",
     "text": [
      "      Year  Kilometers_Driven  Mileage  Engine  Power  Seats New_Price\n",
      "4201    10              77000    22.07  1199.0   73.9    5.0       NaN\n",
      "4383     5              19947    20.36  1197.0   78.9    5.0       NaN\n",
      "1779     7              70963    15.10  2179.0  140.0    7.0       NaN\n",
      "4020     8             115195    25.20  1248.0   74.0    5.0       NaN\n",
      "3248    10              58752    16.47  1198.0   73.9    5.0       NaN\n",
      "...    ...                ...      ...     ...    ...    ...       ...\n",
      "3772     6              27000    17.97  1498.0   99.6    5.0       NaN\n",
      "5191     2               9000    12.62  2198.0  158.0    7.0       NaN\n",
      "5226     8             140000    15.10  2179.0  140.0    7.0       NaN\n",
      "5390     7              76414    25.80  1498.0   98.6    5.0       NaN\n",
      "860     10              98000    12.80  2494.0  102.0    8.0       NaN\n",
      "\n",
      "[4213 rows x 7 columns]\n"
     ]
    }
   ],
   "source": [
    "X_train[\"Engine\"].fillna(X_train[\"Engine\"].astype(\"float64\").mean(), inplace = True)\n",
    "X_test[\"Engine\"].fillna(X_train[\"Engine\"].astype(\"float64\").mean(), inplace = True)\n",
    "\n",
    "X_train[\"Power\"].fillna(X_train[\"Power\"].astype(\"float64\").mean(), inplace = True)\n",
    "X_test[\"Power\"].fillna(X_train[\"Power\"].astype(\"float64\").mean(), inplace = True)\n",
    "\n",
    "X_train[\"Seats\"].fillna(X_train[\"Seats\"].astype(\"float64\").mean(), inplace = True)\n",
    "X_test[\"Seats\"].fillna(X_train[\"Seats\"].astype(\"float64\").mean(), inplace = True)\n",
    "print(X_train)"
   ]
  },
  {
   "cell_type": "markdown",
   "metadata": {},
   "source": [
    "### New Price\n",
    "\n",
    "As most of the values are missing, I'll drop this column altogether."
   ]
  },
  {
   "cell_type": "code",
   "execution_count": 15,
   "metadata": {},
   "outputs": [
    {
     "name": "stdout",
     "output_type": "stream",
     "text": [
      "      Year  Kilometers_Driven  Mileage  Engine  Power  Seats\n",
      "4201    10              77000    22.07  1199.0   73.9    5.0\n",
      "4383     5              19947    20.36  1197.0   78.9    5.0\n",
      "1779     7              70963    15.10  2179.0  140.0    7.0\n",
      "4020     8             115195    25.20  1248.0   74.0    5.0\n",
      "3248    10              58752    16.47  1198.0   73.9    5.0\n",
      "...    ...                ...      ...     ...    ...    ...\n",
      "3772     6              27000    17.97  1498.0   99.6    5.0\n",
      "5191     2               9000    12.62  2198.0  158.0    7.0\n",
      "5226     8             140000    15.10  2179.0  140.0    7.0\n",
      "5390     7              76414    25.80  1498.0   98.6    5.0\n",
      "860     10              98000    12.80  2494.0  102.0    8.0\n",
      "\n",
      "[4213 rows x 6 columns]\n"
     ]
    }
   ],
   "source": [
    "X_train.drop([\"New_Price\"], axis = 1, inplace = True)\n",
    "X_test.drop([\"New_Price\"], axis = 1, inplace = True)\n",
    "print(X_train)"
   ]
  },
  {
   "cell_type": "code",
   "execution_count": 16,
   "metadata": {},
   "outputs": [
    {
     "name": "stdout",
     "output_type": "stream",
     "text": [
      "<class 'pandas.core.frame.DataFrame'>\n",
      "Int64Index: 4213 entries, 4201 to 860\n",
      "Data columns (total 6 columns):\n",
      " #   Column             Non-Null Count  Dtype  \n",
      "---  ------             --------------  -----  \n",
      " 0   Year               4213 non-null   int64  \n",
      " 1   Kilometers_Driven  4213 non-null   int64  \n",
      " 2   Mileage            4213 non-null   float64\n",
      " 3   Engine             4213 non-null   float64\n",
      " 4   Power              4213 non-null   float64\n",
      " 5   Seats              4213 non-null   float64\n",
      "dtypes: float64(4), int64(2)\n",
      "memory usage: 230.4 KB\n"
     ]
    }
   ],
   "source": [
    "X_train.info()"
   ]
  },
  {
   "cell_type": "code",
   "execution_count": 17,
   "metadata": {},
   "outputs": [
    {
     "name": "stdout",
     "output_type": "stream",
     "text": [
      "      Year  Kilometers_Driven  Mileage  Engine  Power  Seats\n",
      "4201    10              77000    22.07  1199.0   73.9    5.0\n",
      "4383     5              19947    20.36  1197.0   78.9    5.0\n",
      "1779     7              70963    15.10  2179.0  140.0    7.0\n",
      "4020     8             115195    25.20  1248.0   74.0    5.0\n",
      "3248    10              58752    16.47  1198.0   73.9    5.0\n",
      "...    ...                ...      ...     ...    ...    ...\n",
      "3772     6              27000    17.97  1498.0   99.6    5.0\n",
      "5191     2               9000    12.62  2198.0  158.0    7.0\n",
      "5226     8             140000    15.10  2179.0  140.0    7.0\n",
      "5390     7              76414    25.80  1498.0   98.6    5.0\n",
      "860     10              98000    12.80  2494.0  102.0    8.0\n",
      "\n",
      "[4213 rows x 6 columns]\n"
     ]
    }
   ],
   "source": [
    "#Trying to eliminate this step\n",
    "#Very important step \n",
    "missing_cols = set(X_train.columns) - set(X_test.columns)\n",
    "for col in missing_cols:\n",
    "    X_test[col] = 0\n",
    "X_test = X_test[X_train.columns]\n",
    "print(X_train)"
   ]
  },
  {
   "cell_type": "code",
   "execution_count": 18,
   "metadata": {},
   "outputs": [],
   "source": [
    "#X_test."
   ]
  },
  {
   "cell_type": "markdown",
   "metadata": {},
   "source": [
    "## Training and predicting\n",
    "\n",
    "I'll create a **Linear Regression** model and a **Random Forest** model to train on the data and use it for future predictions."
   ]
  },
  {
   "cell_type": "code",
   "execution_count": 19,
   "metadata": {},
   "outputs": [
    {
     "data": {
      "text/plain": [
       "0.59601312372595"
      ]
     },
     "execution_count": 19,
     "metadata": {},
     "output_type": "execute_result"
    }
   ],
   "source": [
    "linearRegression = LinearRegression()\n",
    "linearRegression.fit(X_train, y_train)\n",
    "y_pred = linearRegression.predict(X_test)\n",
    "r2_score(y_test, y_pred)"
   ]
  },
  {
   "cell_type": "code",
   "execution_count": 20,
   "metadata": {},
   "outputs": [
    {
     "data": {
      "text/plain": [
       "0.8650957392959905"
      ]
     },
     "execution_count": 20,
     "metadata": {},
     "output_type": "execute_result"
    }
   ],
   "source": [
    "rf = RandomForestRegressor(n_estimators = 100)\n",
    "rf.fit(X_train, y8650957392959905_train)\n",
    "y_pred = rf.predict(X_test)\n",
    "r2_score(y_test, y_pred)\n"
   ]
  },
  {
   "cell_type": "code",
   "execution_count": 21,
   "metadata": {},
   "outputs": [],
   "source": [
    "pickle.dump(rf , open('model.pkl', 'wb'))"
   ]
  },
  {
   "cell_type": "code",
   "execution_count": 22,
   "metadata": {},
   "outputs": [
    {
     "data": {
      "text/plain": [
       "['finalized_model.sav']"
      ]
     },
     "execution_count": 22,
     "metadata": {},
     "output_type": "execute_result"
    }
   ],
   "source": [
    "filename = 'finalized_model.sav'\n",
    "joblib.dump(rf, filename)"
   ]
  },
  {
   "cell_type": "markdown",
   "metadata": {},
   "source": [
    "**Before** removing all dummy Variables\n",
    "The **Random Forest** model performed the best with a R2 score of **0.88**.\n",
    "\n",
    "\n",
    "Removing manufactures: 0.8652412587446461\n",
    "\n",
    "removing owner_type rf score: 0.8641673186170281\n",
    "\n",
    "After eliminating all dummy variables .859811156422271\n",
    "\n",
    "After eliminating minus step and without dummy varibale rf score 0.8654734633348752\n",
    "    eliminating the  minus step and with all dummy variables rf score is 0.8466859912480016"
   ]
  },
  {
   "cell_type": "code",
   "execution_count": 23,
   "metadata": {},
   "outputs": [
    {
     "data": {
      "text/html": [
       "<div>\n",
       "<style scoped>\n",
       "    .dataframe tbody tr th:only-of-type {\n",
       "        vertical-align: middle;\n",
       "    }\n",
       "\n",
       "    .dataframe tbody tr th {\n",
       "        vertical-align: top;\n",
       "    }\n",
       "\n",
       "    .dataframe thead th {\n",
       "        text-align: right;\n",
       "    }\n",
       "</style>\n",
       "<table border=\"1\" class=\"dataframe\">\n",
       "  <thead>\n",
       "    <tr style=\"text-align: right;\">\n",
       "      <th></th>\n",
       "      <th>Unnamed: 0</th>\n",
       "      <th>Name</th>\n",
       "      <th>Location</th>\n",
       "      <th>Year</th>\n",
       "      <th>Kilometers_Driven</th>\n",
       "      <th>Fuel_Type</th>\n",
       "      <th>Transmission</th>\n",
       "      <th>Owner_Type</th>\n",
       "      <th>Mileage</th>\n",
       "      <th>Engine</th>\n",
       "      <th>Power</th>\n",
       "      <th>Seats</th>\n",
       "      <th>New_Price</th>\n",
       "      <th>Price</th>\n",
       "    </tr>\n",
       "  </thead>\n",
       "  <tbody>\n",
       "    <tr>\n",
       "      <th>4383</th>\n",
       "      <td>4383</td>\n",
       "      <td>Hyundai i10 Sportz</td>\n",
       "      <td>Hyderabad</td>\n",
       "      <td>2016</td>\n",
       "      <td>19947</td>\n",
       "      <td>Petrol</td>\n",
       "      <td>Manual</td>\n",
       "      <td>First</td>\n",
       "      <td>20.36 kmpl</td>\n",
       "      <td>1197 CC</td>\n",
       "      <td>78.9 bhp</td>\n",
       "      <td>5.0</td>\n",
       "      <td>NaN</td>\n",
       "      <td>4.5</td>\n",
       "    </tr>\n",
       "  </tbody>\n",
       "</table>\n",
       "</div>"
      ],
      "text/plain": [
       "      Unnamed: 0                Name   Location  Year  Kilometers_Driven  \\\n",
       "4383        4383  Hyundai i10 Sportz  Hyderabad  2016              19947   \n",
       "\n",
       "     Fuel_Type Transmission Owner_Type     Mileage   Engine     Power  Seats  \\\n",
       "4383    Petrol       Manual      First  20.36 kmpl  1197 CC  78.9 bhp    5.0   \n",
       "\n",
       "     New_Price  Price  \n",
       "4383       NaN    4.5  "
      ]
     },
     "execution_count": 23,
     "metadata": {},
     "output_type": "execute_result"
    }
   ],
   "source": [
    "\"\"\" 4201, 4383, 1779, 4020, 3248, 4591, 3559, 841, 2586,1189\"\"\"\n",
    "\n",
    "x = 4383\n",
    "dataset.iloc[x:x+1]"
   ]
  },
  {
   "cell_type": "markdown",
   "metadata": {},
   "source": [
    "  year, kilometes_driven, fuel_type , Transmission, Owner_Type, mileage,  Engine , Power , Seats , Manufacture ,"
   ]
  },
  {
   "cell_type": "code",
   "execution_count": 24,
   "metadata": {},
   "outputs": [],
   "source": [
    "input_val = np.array([[5, 19947, 20.36, 1197, 78.9, 5]])\n",
    "#input_val.reshape(-1,1)"
   ]
  },
  {
   "cell_type": "code",
   "execution_count": 25,
   "metadata": {},
   "outputs": [
    {
     "data": {
      "text/plain": [
       "6"
      ]
     },
     "execution_count": 25,
     "metadata": {},
     "output_type": "execute_result"
    }
   ],
   "source": [
    "input_val.size"
   ]
  },
  {
   "cell_type": "markdown",
   "metadata": {},
   "source": [
    "X_train = pd.get_dummies(X_train,\n",
    "                         columns = [\"Manufacturer\", \"Fuel_Type\", \"Transmission\", \"Owner_Type\"],\n",
    "                         drop_first = True) \n",
    "output1 = rf.predict(input_val)"
   ]
  },
  {
   "cell_type": "code",
   "execution_count": 26,
   "metadata": {},
   "outputs": [],
   "source": [
    "output1 = rf.predict(input_val)"
   ]
  },
  {
   "cell_type": "code",
   "execution_count": 27,
   "metadata": {},
   "outputs": [
    {
     "name": "stdout",
     "output_type": "stream",
     "text": [
      "[4.75429167]\n"
     ]
    }
   ],
   "source": [
    "print(output1)"
   ]
  },
  {
   "cell_type": "code",
   "execution_count": 28,
   "metadata": {},
   "outputs": [],
   "source": [
    "input_val2 = np.array([[3, 20185, 18.49, 1493, 100, 7]])"
   ]
  },
  {
   "cell_type": "code",
   "execution_count": 29,
   "metadata": {},
   "outputs": [],
   "source": [
    "output2 = rf.predict(input_val2)"
   ]
  },
  {
   "cell_type": "code",
   "execution_count": 30,
   "metadata": {},
   "outputs": [
    {
     "data": {
      "text/plain": [
       "array([7.6008])"
      ]
     },
     "execution_count": 30,
     "metadata": {},
     "output_type": "execute_result"
    }
   ],
   "source": [
    "output2"
   ]
  },
  {
   "cell_type": "code",
   "execution_count": 31,
   "metadata": {},
   "outputs": [],
   "source": [
    "loaded_model = joblib.load(filename)"
   ]
  },
  {
   "cell_type": "code",
   "execution_count": 32,
   "metadata": {},
   "outputs": [],
   "source": [
    "output3 = loaded_model.predict(input_val2)"
   ]
  },
  {
   "cell_type": "code",
   "execution_count": 33,
   "metadata": {},
   "outputs": [
    {
     "data": {
      "text/plain": [
       "array([7.6008])"
      ]
     },
     "execution_count": 33,
     "metadata": {},
     "output_type": "execute_result"
    }
   ],
   "source": [
    "output3"
   ]
  },
  {
   "cell_type": "code",
   "execution_count": 34,
   "metadata": {},
   "outputs": [],
   "source": [
    "#We are giving input to model through numpy array \n",
    "inputval4 = np.array([[5, 19947, 20.36, 1197, 78.9 ,5]])"
   ]
  },
  {
   "cell_type": "code",
   "execution_count": 35,
   "metadata": {},
   "outputs": [],
   "source": [
    "#here model will process the data and will give output which is stored in output4 variable\n",
    "output4 = rf.predict(inputval4)"
   ]
  },
  {
   "cell_type": "code",
   "execution_count": 36,
   "metadata": {},
   "outputs": [
    {
     "data": {
      "text/plain": [
       "array([4.75429167])"
      ]
     },
     "execution_count": 36,
     "metadata": {},
     "output_type": "execute_result"
    }
   ],
   "source": [
    "#Here you can see the output of predicted by model\n",
    "output4"
   ]
  },
  {
   "cell_type": "code",
   "execution_count": 37,
   "metadata": {},
   "outputs": [
    {
     "data": {
      "image/png": "[encoded data removed]",
      "text/plain": [
       "<Figure size 432x288 with 1 Axes>"
      ]
     },
     "metadata": {
      "needs_background": "light"
     },
     "output_type": "display_data"
    }
   ],
   "source": [
    "plt.plot(y_test,y_pred)\n",
    "plt.xlabel(\"Testing data\")\n",
    "plt.ylabel(\"Trianing data\")\n",
    "plt.show()"
   ]
  },
  {
   "cell_type": "code",
   "execution_count": 38,
   "metadata": {},
   "outputs": [
    {
     "data": {
      "image/png": "[encoded data removed]",
      "text/plain": [
       "<Figure size 800x800 with 1 Axes>"
      ]
     },
     "metadata": {
      "needs_background": "light"
     },
     "output_type": "display_data"
    }
   ],
   "source": [
    "from matplotlib.pyplot import figure\n",
    "figure(figsize=(10, 10), dpi=80)\n",
    "plt.scatter(y_test, y_pred, alpha = 0.6, color = 'green')\n",
    "plt.title(\"Accuracy Graph\")\n",
    "plt.xlabel(\"Testing data\")\n",
    "plt.ylabel(\"Trianing data\")\n",
    "plt.grid()"
   ]
  },
  {
   "cell_type": "markdown",
   "metadata": {},
   "source": [
    " Year  Kilometers_Driven  Mileage   Engine   Power   Seats\n",
    "  5,   19947kms,          20.36 km, 1197 cc, 78 bhp, 5"
   ]
  },
  {
   "cell_type": "code",
   "execution_count": 39,
   "metadata": {},
   "outputs": [
    {
     "data": {
      "text/html": [
       "<div>\n",
       "<style scoped>\n",
       "    .dataframe tbody tr th:only-of-type {\n",
       "        vertical-align: middle;\n",
       "    }\n",
       "\n",
       "    .dataframe tbody tr th {\n",
       "        vertical-align: top;\n",
       "    }\n",
       "\n",
       "    .dataframe thead th {\n",
       "        text-align: right;\n",
       "    }\n",
       "</style>\n",
       "<table border=\"1\" class=\"dataframe\">\n",
       "  <thead>\n",
       "    <tr style=\"text-align: right;\">\n",
       "      <th></th>\n",
       "      <th>Unnamed: 0</th>\n",
       "      <th>Name</th>\n",
       "      <th>Location</th>\n",
       "      <th>Year</th>\n",
       "      <th>Kilometers_Driven</th>\n",
       "      <th>Fuel_Type</th>\n",
       "      <th>Transmission</th>\n",
       "      <th>Owner_Type</th>\n",
       "      <th>Mileage</th>\n",
       "      <th>Engine</th>\n",
       "      <th>Power</th>\n",
       "      <th>Seats</th>\n",
       "      <th>New_Price</th>\n",
       "      <th>Price</th>\n",
       "    </tr>\n",
       "  </thead>\n",
       "  <tbody>\n",
       "    <tr>\n",
       "      <th>4383</th>\n",
       "      <td>4383</td>\n",
       "      <td>Hyundai i10 Sportz</td>\n",
       "      <td>Hyderabad</td>\n",
       "      <td>2016</td>\n",
       "      <td>19947</td>\n",
       "      <td>Petrol</td>\n",
       "      <td>Manual</td>\n",
       "      <td>First</td>\n",
       "      <td>20.36 kmpl</td>\n",
       "      <td>1197 CC</td>\n",
       "      <td>78.9 bhp</td>\n",
       "      <td>5.0</td>\n",
       "      <td>NaN</td>\n",
       "      <td>4.5</td>\n",
       "    </tr>\n",
       "  </tbody>\n",
       "</table>\n",
       "</div>"
      ],
      "text/plain": [
       "      Unnamed: 0                Name   Location  Year  Kilometers_Driven  \\\n",
       "4383        4383  Hyundai i10 Sportz  Hyderabad  2016              19947   \n",
       "\n",
       "     Fuel_Type Transmission Owner_Type     Mileage   Engine     Power  Seats  \\\n",
       "4383    Petrol       Manual      First  20.36 kmpl  1197 CC  78.9 bhp    5.0   \n",
       "\n",
       "     New_Price  Price  \n",
       "4383       NaN    4.5  "
      ]
     },
     "execution_count": 39,
     "metadata": {},
     "output_type": "execute_result"
    }
   ],
   "source": [
    "x = 4383\n",
    "dataset.iloc[x:x+1]"
   ]
  },
  {
   "cell_type": "code",
   "execution_count": 40,
   "metadata": {},
   "outputs": [],
   "source": [
    "features_array = np.array([[5, 19947, 20.36, 1197, 78.9 ,5]])\n",
    "predicted_price = rf.predict(features_array)"
   ]
  },
  {
   "cell_type": "code",
   "execution_count": 41,
   "metadata": {},
   "outputs": [
    {
     "data": {
      "text/plain": [
       "array([4.75429167])"
      ]
     },
     "execution_count": 41,
     "metadata": {},
     "output_type": "execute_result"
    }
   ],
   "source": [
    "predicted_price"
   ]
  },
  {
   "cell_type": "markdown",
   "metadata": {},
   "source": [
    "1779     7              70963    15.10  2179.0  140.0    7.0\n",
    "4020     8             115195    25.20  1248.0   74.0    5.0\n",
    "3248    10              58752    16.47  1198.0   73.9    5.0"
   ]
  },
  {
   "cell_type": "code",
   "execution_count": 42,
   "metadata": {},
   "outputs": [
    {
     "data": {
      "text/html": [
       "<div>\n",
       "<style scoped>\n",
       "    .dataframe tbody tr th:only-of-type {\n",
       "        vertical-align: middle;\n",
       "    }\n",
       "\n",
       "    .dataframe tbody tr th {\n",
       "        vertical-align: top;\n",
       "    }\n",
       "\n",
       "    .dataframe thead th {\n",
       "        text-align: right;\n",
       "    }\n",
       "</style>\n",
       "<table border=\"1\" class=\"dataframe\">\n",
       "  <thead>\n",
       "    <tr style=\"text-align: right;\">\n",
       "      <th></th>\n",
       "      <th>Unnamed: 0</th>\n",
       "      <th>Name</th>\n",
       "      <th>Location</th>\n",
       "      <th>Year</th>\n",
       "      <th>Kilometers_Driven</th>\n",
       "      <th>Fuel_Type</th>\n",
       "      <th>Transmission</th>\n",
       "      <th>Owner_Type</th>\n",
       "      <th>Mileage</th>\n",
       "      <th>Engine</th>\n",
       "      <th>Power</th>\n",
       "      <th>Seats</th>\n",
       "      <th>New_Price</th>\n",
       "      <th>Price</th>\n",
       "    </tr>\n",
       "  </thead>\n",
       "  <tbody>\n",
       "    <tr>\n",
       "      <th>1779</th>\n",
       "      <td>1779</td>\n",
       "      <td>Mahindra XUV500 W8 2WD</td>\n",
       "      <td>Kochi</td>\n",
       "      <td>2014</td>\n",
       "      <td>70963</td>\n",
       "      <td>Diesel</td>\n",
       "      <td>Manual</td>\n",
       "      <td>First</td>\n",
       "      <td>15.1 kmpl</td>\n",
       "      <td>2179 CC</td>\n",
       "      <td>140 bhp</td>\n",
       "      <td>7.0</td>\n",
       "      <td>NaN</td>\n",
       "      <td>7.83</td>\n",
       "    </tr>\n",
       "  </tbody>\n",
       "</table>\n",
       "</div>"
      ],
      "text/plain": [
       "      Unnamed: 0                    Name Location  Year  Kilometers_Driven  \\\n",
       "1779        1779  Mahindra XUV500 W8 2WD    Kochi  2014              70963   \n",
       "\n",
       "     Fuel_Type Transmission Owner_Type    Mileage   Engine    Power  Seats  \\\n",
       "1779    Diesel       Manual      First  15.1 kmpl  2179 CC  140 bhp    7.0   \n",
       "\n",
       "     New_Price  Price  \n",
       "1779       NaN   7.83  "
      ]
     },
     "execution_count": 42,
     "metadata": {},
     "output_type": "execute_result"
    }
   ],
   "source": [
    "x = 1779\n",
    "dataset.iloc[x:x+1]"
   ]
  },
  {
   "cell_type": "code",
   "execution_count": 43,
   "metadata": {},
   "outputs": [],
   "source": [
    "features_array = np.array([[7, 70963, 15.1, 2179, 140 ,7]])\n",
    "predicted_price = rf.predict(features_array)"
   ]
  },
  {
   "cell_type": "code",
   "execution_count": 44,
   "metadata": {},
   "outputs": [
    {
     "data": {
      "text/plain": [
       "array([8.1367])"
      ]
     },
     "execution_count": 44,
     "metadata": {},
     "output_type": "execute_result"
    }
   ],
   "source": [
    "predicted_price"
   ]
  },
  {
   "cell_type": "code",
   "execution_count": 45,
   "metadata": {},
   "outputs": [],
   "source": [
    "model1 = pickle.load(open('model.pkl', 'rb'))\n",
    "predicted_price2 = model1.predict(features_array)"
   ]
  },
  {
   "cell_type": "code",
   "execution_count": 46,
   "metadata": {},
   "outputs": [
    {
     "data": {
      "text/plain": [
       "array([8.1367])"
      ]
     },
     "execution_count": 46,
     "metadata": {},
     "output_type": "execute_result"
    }
   ],
   "source": [
    "predicted_price2"
   ]
  },
  {
   "cell_type": "code",
   "execution_count": 47,
   "metadata": {},
   "outputs": [
    {
     "data": {
      "text/html": [
       "<div>\n",
       "<style scoped>\n",
       "    .dataframe tbody tr th:only-of-type {\n",
       "        vertical-align: middle;\n",
       "    }\n",
       "\n",
       "    .dataframe tbody tr th {\n",
       "        vertical-align: top;\n",
       "    }\n",
       "\n",
       "    .dataframe thead th {\n",
       "        text-align: right;\n",
       "    }\n",
       "</style>\n",
       "<table border=\"1\" class=\"dataframe\">\n",
       "  <thead>\n",
       "    <tr style=\"text-align: right;\">\n",
       "      <th></th>\n",
       "      <th>Unnamed: 0</th>\n",
       "      <th>Name</th>\n",
       "      <th>Location</th>\n",
       "      <th>Year</th>\n",
       "      <th>Kilometers_Driven</th>\n",
       "      <th>Fuel_Type</th>\n",
       "      <th>Transmission</th>\n",
       "      <th>Owner_Type</th>\n",
       "      <th>Mileage</th>\n",
       "      <th>Engine</th>\n",
       "      <th>Power</th>\n",
       "      <th>Seats</th>\n",
       "      <th>New_Price</th>\n",
       "      <th>Price</th>\n",
       "    </tr>\n",
       "  </thead>\n",
       "  <tbody>\n",
       "    <tr>\n",
       "      <th>2795</th>\n",
       "      <td>2795</td>\n",
       "      <td>BMW X5 X5 M</td>\n",
       "      <td>Pune</td>\n",
       "      <td>2015</td>\n",
       "      <td>69002</td>\n",
       "      <td>Diesel</td>\n",
       "      <td>Automatic</td>\n",
       "      <td>First</td>\n",
       "      <td>15.97 kmpl</td>\n",
       "      <td>2993 CC</td>\n",
       "      <td>258 bhp</td>\n",
       "      <td>5.0</td>\n",
       "      <td>NaN</td>\n",
       "      <td>50.0</td>\n",
       "    </tr>\n",
       "  </tbody>\n",
       "</table>\n",
       "</div>"
      ],
      "text/plain": [
       "      Unnamed: 0         Name Location  Year  Kilometers_Driven Fuel_Type  \\\n",
       "2795        2795  BMW X5 X5 M     Pune  2015              69002    Diesel   \n",
       "\n",
       "     Transmission Owner_Type     Mileage   Engine    Power  Seats New_Price  \\\n",
       "2795    Automatic      First  15.97 kmpl  2993 CC  258 bhp    5.0       NaN   \n",
       "\n",
       "      Price  \n",
       "2795   50.0  "
      ]
     },
     "execution_count": 47,
     "metadata": {},
     "output_type": "execute_result"
    }
   ],
   "source": [
    "x = 2795\n",
    "dataset.iloc[x:x+1]"
   ]
  },
  {
   "cell_type": "code",
   "execution_count": 48,
   "metadata": {},
   "outputs": [
    {
     "data": {
      "text/plain": [
       "array([47.7558])"
      ]
     },
     "execution_count": 48,
     "metadata": {},
     "output_type": "execute_result"
    }
   ],
   "source": [
    "features_array = np.array([[6, 69002, 15.97, 2993, 258 ,5]])\n",
    "predicted_price = rf.predict(features_array)\n",
    "predicted_price"
   ]
  },
  {
   "cell_type": "code",
   "execution_count": 49,
   "metadata": {},
   "outputs": [
    {
     "data": {
      "text/plain": [
       "11.60077519379845"
      ]
     },
     "execution_count": 49,
     "metadata": {},
     "output_type": "execute_result"
    }
   ],
   "source": [
    "2993/258"
   ]
  },
  {
   "cell_type": "code",
   "execution_count": 50,
   "metadata": {},
   "outputs": [
    {
     "data": {
      "text/plain": [
       "15.564285714285715"
      ]
     },
     "execution_count": 50,
     "metadata": {},
     "output_type": "execute_result"
    }
   ],
   "source": [
    "2179/140"
   ]
  },
  {
   "cell_type": "code",
   "execution_count": null,
   "metadata": {},
   "outputs": [],
   "source": []
  }
 ],
 "metadata": {
  "kernelspec": {
   "display_name": "Python 3",
   "language": "python",
   "name": "python3"
  },
  "language_info": {
   "codemirror_mode": {
    "name": "ipython",
    "version": 3
   },
   "file_extension": ".py",
   "mimetype": "text/x-python",
   "name": "python",
   "nbconvert_exporter": "python",
   "pygments_lexer": "ipython3",
   "version": "3.8.3"
  }
 },
 "nbformat": 4,
 "nbformat_minor": 2
}
